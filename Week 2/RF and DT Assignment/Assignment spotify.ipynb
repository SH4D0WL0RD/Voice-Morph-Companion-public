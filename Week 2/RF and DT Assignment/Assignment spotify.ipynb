{
 "cells": [
  {
   "cell_type": "markdown",
   "metadata": {},
   "source": [
    "# Random Forests and Decision Trees\n",
    "- Classify the Spotify.csv dataset \n",
    "- Predict the Genre \n",
    "- The dataset has 23 Columns and The Output feature is **playlist_genre** so all others can be used as input features. Decide on what can be used and what cannot be used. \n",
    "- Do the Preprocessing below\n",
    "- Do 70:30 Train test split "
   ]
  },
  {
   "cell_type": "code",
   "execution_count": 1,
   "metadata": {},
   "outputs": [
    {
     "name": "stdout",
     "output_type": "stream",
     "text": [
      "(32833, 20210)\n",
      "(22983, 20210)\n",
      "(9850, 20210)\n"
     ]
    }
   ],
   "source": [
    "import pandas as pd\n",
    "from sklearn.model_selection import train_test_split\n",
    "from sklearn.preprocessing import OneHotEncoder, StandardScaler\n",
    "from sklearn.compose import make_column_transformer, make_column_selector\n",
    "import numpy as np\n",
    "\n",
    "# Read CSV\n",
    "data = pd.read_csv('spotify Edited.csv')\n",
    "\n",
    "# Handle missing values (replace with your imputation strategy)\n",
    "data['danceability'] = data['danceability'].fillna(data['danceability'].mean())  # Example for numerical feature\n",
    "data['playlist_name'] = data['playlist_name'].fillna(data['playlist_name'].mode()[0])  # Example for categorical feature\n",
    "\n",
    "Y = data['playlist_genre']\n",
    "data = data.drop(columns=['track_id','track_popularity','track_name','mode','track_artist','track_album_id','track_album_release_date','playlist_id','playlist_subgenre'])\n",
    "features=['danceability','energy','speechiness','acousticness','instrumentalness','loudness','key','tempo','valence','duration_ms','liveness']\n",
    "detes='playlist_name'\n",
    "# Create a OneHotEncoder object with desired sparsity\n",
    "encoder = OneHotEncoder(sparse_output=False)  # Set sparse=False for dense output\n",
    "\n",
    "# Use the encoder directly within make_column_transformer\n",
    "preprocessor = make_column_transformer(\n",
    "    (encoder, make_column_selector(dtype_include=object)),\n",
    "    (StandardScaler(), make_column_selector(dtype_exclude=object)),\n",
    ")\n",
    "\n",
    "\n",
    "# Fit transformer on data\n",
    "X = preprocessor.fit_transform(data)\n",
    "\n",
    "# Split data\n",
    "X_train, X_test, y_train, y_test = train_test_split(X, Y, test_size=0.3, random_state=33)\n",
    "\n",
    "# Print data shapes for debugging\n",
    "print(X.shape)\n",
    "print(X_train.shape)\n",
    "print(X_test.shape)\n",
    "\n"
   ]
  },
  {
   "cell_type": "markdown",
   "metadata": {},
   "source": [
    "## Frame a Decision Tree Model \n",
    "- Use Any Parameters\n",
    "- You can use any library"
   ]
  },
  {
   "cell_type": "code",
   "execution_count": 2,
   "metadata": {},
   "outputs": [
    {
     "name": "stdout",
     "output_type": "stream",
     "text": [
      "Accuracy: 1.0\n"
     ]
    }
   ],
   "source": [
    "from sklearn.tree import DecisionTreeClassifier\n",
    "from sklearn.metrics import accuracy_score  \n",
    "\n",
    "clf = DecisionTreeClassifier(criterion=\"gini\", max_depth=10, random_state=33)\n",
    "\n",
    "# Train the decision tree model\n",
    "clf.fit(X_train, y_train)\n",
    "\n",
    "# Make predictions on new data (testing set)\n",
    "y_pred = clf.predict(X_test)\n",
    "\n",
    "# Evaluate model performance (replace with your chosen metric)\n",
    "accuracy = accuracy_score(y_test, y_pred)\n",
    "print(\"Accuracy:\", accuracy)"
   ]
  },
  {
   "cell_type": "markdown",
   "metadata": {},
   "source": [
    "## Frame a Random Forests Model \n",
    "- Use Any Parameters\n",
    "- You can use any library"
   ]
  },
  {
   "cell_type": "code",
   "execution_count": 3,
   "metadata": {},
   "outputs": [
    {
     "name": "stdout",
     "output_type": "stream",
     "text": [
      "Accuracy: 1.0\n"
     ]
    }
   ],
   "source": [
    "from sklearn.ensemble import RandomForestClassifier\n",
    "from sklearn.model_selection import train_test_split\n",
    "from sklearn.metrics import accuracy_score  # Example metric\n",
    "\n",
    "# Create a random forest classifier object (adjust parameters as needed)\n",
    "rfc = RandomForestClassifier(n_estimators=100, criterion=\"gini\", random_state=33)\n",
    "\n",
    "# Train the random forest model\n",
    "rfc.fit(X_train, y_train)\n",
    "# Make predictions on new data (testing set)\n",
    "y_pred = rfc.predict(X_test)\n",
    "\n",
    "# Evaluate model performance (replace with your chosen metric)\n",
    "accuracy = accuracy_score(y_test, y_pred)\n",
    "print(\"Accuracy:\", accuracy)\n"
   ]
  },
  {
   "cell_type": "markdown",
   "metadata": {},
   "source": [
    "## Train the Models and Report the Accuracy"
   ]
  },
  {
   "cell_type": "code",
   "execution_count": null,
   "metadata": {},
   "outputs": [],
   "source": []
  }
 ],
 "metadata": {
  "kernelspec": {
   "display_name": "Python 3",
   "language": "python",
   "name": "python3"
  },
  "language_info": {
   "codemirror_mode": {
    "name": "ipython",
    "version": 3
   },
   "file_extension": ".py",
   "mimetype": "text/x-python",
   "name": "python",
   "nbconvert_exporter": "python",
   "pygments_lexer": "ipython3",
   "version": "3.12.3"
  }
 },
 "nbformat": 4,
 "nbformat_minor": 2
}
